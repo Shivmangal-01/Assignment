{
 "cells": [
  {
   "cell_type": "markdown",
   "id": "9553fdf9",
   "metadata": {},
   "source": [
    "1.What is difference between set and dictionary."
   ]
  },
  {
   "cell_type": "code",
   "execution_count": 1,
   "id": "e70e840f",
   "metadata": {},
   "outputs": [
    {
     "name": "stdout",
     "output_type": "stream",
     "text": [
      "{1, 2, 3, 4, 5}\n"
     ]
    }
   ],
   "source": [
    "#set\n",
    "s={1,2,3,4,5,3,4,2}\n",
    "print(s)"
   ]
  },
  {
   "cell_type": "code",
   "execution_count": 3,
   "id": "7b0f6049",
   "metadata": {},
   "outputs": [
    {
     "name": "stdout",
     "output_type": "stream",
     "text": [
      "{1: 1, 2: 4, 3: 9}\n"
     ]
    }
   ],
   "source": [
    "#dictionary\n",
    "d={1:1,2:4,3:9}\n",
    "print(d)"
   ]
  },
  {
   "cell_type": "markdown",
   "id": "19cbfc00",
   "metadata": {},
   "source": [
    "2.Write a program to print the following pattern.\n",
    "*\n",
    "* *\n",
    "* * *"
   ]
  },
  {
   "cell_type": "code",
   "execution_count": 6,
   "id": "a63211e7",
   "metadata": {},
   "outputs": [
    {
     "name": "stdout",
     "output_type": "stream",
     "text": [
      "\n",
      "* \n",
      "* * \n",
      "* * * \n"
     ]
    }
   ],
   "source": [
    "for i in range(4):\n",
    "    print(\"* \"*i)"
   ]
  },
  {
   "cell_type": "markdown",
   "id": "31b4f4d2",
   "metadata": {},
   "source": [
    "3.Write a program to print n natural numbers in ascending order using a while loop."
   ]
  },
  {
   "cell_type": "code",
   "execution_count": 7,
   "id": "cd358720",
   "metadata": {},
   "outputs": [
    {
     "name": "stdout",
     "output_type": "stream",
     "text": [
      "enter number:10\n",
      "0\n",
      "1\n",
      "2\n",
      "3\n",
      "4\n",
      "5\n",
      "6\n",
      "7\n",
      "8\n",
      "9\n",
      "10\n"
     ]
    }
   ],
   "source": [
    "n=int(input(\"enter number:\"))\n",
    "i=0\n",
    "while i<=n:\n",
    "    print(i)\n",
    "    i=i+1"
   ]
  },
  {
   "cell_type": "markdown",
   "id": "3d3682f1",
   "metadata": {},
   "source": [
    "4.Write a program in python  to swap between two numbers without using a third variable."
   ]
  },
  {
   "cell_type": "code",
   "execution_count": 9,
   "id": "c346c679",
   "metadata": {},
   "outputs": [
    {
     "name": "stdout",
     "output_type": "stream",
     "text": [
      "a= 20\n",
      "b= 10\n"
     ]
    }
   ],
   "source": [
    "a=10\n",
    "b=20\n",
    "a,b=b,a\n",
    "print(\"a=\",a)\n",
    "print(\"b=\",b)"
   ]
  },
  {
   "cell_type": "markdown",
   "id": "0b800a15",
   "metadata": {},
   "source": [
    "5.how to create a function with Default argument."
   ]
  },
  {
   "cell_type": "code",
   "execution_count": 13,
   "id": "ac5f0320",
   "metadata": {},
   "outputs": [
    {
     "data": {
      "text/plain": [
       "15"
      ]
     },
     "execution_count": 13,
     "metadata": {},
     "output_type": "execute_result"
    }
   ],
   "source": [
    "def sum(a,b,c=5):\n",
    "    return a+b+c\n",
    "sum(5,5)"
   ]
  },
  {
   "cell_type": "markdown",
   "id": "e15a72f9",
   "metadata": {},
   "source": [
    "6.Display a square of numbers from 1 to 10 using list comprehension."
   ]
  },
  {
   "cell_type": "code",
   "execution_count": 38,
   "id": "6401d550",
   "metadata": {},
   "outputs": [
    {
     "name": "stdout",
     "output_type": "stream",
     "text": [
      "[1, 4, 9, 16, 25, 36, 49, 64, 81, 100]\n"
     ]
    }
   ],
   "source": [
    "l=[i**2 for i in range(1,11)]\n",
    "print(l)"
   ]
  },
  {
   "cell_type": "markdown",
   "id": "3a7c8cc6",
   "metadata": {},
   "source": [
    "7.what is polymorphism?Explain with example(class)"
   ]
  },
  {
   "cell_type": "markdown",
   "id": "9d26f9fb",
   "metadata": {},
   "source": [
    "polymorphism:--\n",
    "    same function name used for different types.\n"
   ]
  },
  {
   "cell_type": "code",
   "execution_count": 39,
   "id": "309889ac",
   "metadata": {},
   "outputs": [],
   "source": [
    "class A:\n",
    "    def sum(self,a,b):\n",
    "        self.a=a\n",
    "        self.b=b\n",
    "        return a+b\n",
    "    def sum(self,a,b):\n",
    "        self.a=a\n",
    "        self.b=b\n",
    "        return a-b\n",
    "obj=A()   "
   ]
  },
  {
   "cell_type": "code",
   "execution_count": 40,
   "id": "81c21599",
   "metadata": {},
   "outputs": [
    {
     "data": {
      "text/plain": [
       "0"
      ]
     },
     "execution_count": 40,
     "metadata": {},
     "output_type": "execute_result"
    }
   ],
   "source": [
    "obj.sum(5,5)"
   ]
  },
  {
   "cell_type": "markdown",
   "id": "6f0c03b7",
   "metadata": {},
   "source": [
    "8. Explain conditional probability with example?"
   ]
  },
  {
   "cell_type": "markdown",
   "id": "6fcfcdfc",
   "metadata": {},
   "source": [
    "conditional probability:--\n",
    "    probability of event A occuring, given that event B occurs.p(A/B)\n",
    "\n",
    "Ex--probability of 4 given that drawn card is red is p(4/red)\n",
    "p(2/26)=1/13.\n"
   ]
  },
  {
   "cell_type": "markdown",
   "id": "419e72b3",
   "metadata": {},
   "source": [
    "9. Explain Emphirical rule  with diagram ."
   ]
  },
  {
   "cell_type": "markdown",
   "id": "31cb35ed",
   "metadata": {},
   "source": [
    "Emphirical rule says--\n",
    "68% of the data is fall in +/- 1 standard deviation away from mean.\n",
    "95% of the data is fall in +/- 2 standard deviation away from mean.\n",
    "99% of the data is fall in +/- 3 standard deviation away from mean."
   ]
  },
  {
   "cell_type": "raw",
   "id": "bfcd3483",
   "metadata": {},
   "source": [
    "10.What is Hypothesis Testing ? What is the Role of p value in HT?"
   ]
  },
  {
   "cell_type": "markdown",
   "id": "914d6d28",
   "metadata": {},
   "source": [
    "ex---Distribution\n",
    "h0=normal distribution\n",
    "h1=not normal distribution.\n",
    "\n",
    "p value--decide reject null hypothesis or fail to reject.\n",
    "p>0.05--fail to reject null hypothesis.\n",
    "p<0.05-- reject null hypothesis."
   ]
  },
  {
   "cell_type": "markdown",
   "id": "a8530008",
   "metadata": {},
   "source": [
    "Q2) List all the probability distributions with example?       5*1 = 5"
   ]
  },
  {
   "cell_type": "markdown",
   "id": "e60201d9",
   "metadata": {},
   "source": [
    "### 1.normal distribution--"
   ]
  },
  {
   "cell_type": "markdown",
   "id": "14a6752b",
   "metadata": {},
   "source": [
    "in noraml distribution mean and median are almost same.\n",
    "half of the data in dataset lies in left side the mean and half is right side in noraml distribution."
   ]
  },
  {
   "cell_type": "markdown",
   "id": "dd35510e",
   "metadata": {},
   "source": [
    "### 2.binomial distribution"
   ]
  },
  {
   "cell_type": "markdown",
   "id": "216ef668",
   "metadata": {},
   "source": [
    "it has two possible outcomes in all trials.\n",
    "ex--flipping a 1 coin"
   ]
  },
  {
   "cell_type": "markdown",
   "id": "c5892196",
   "metadata": {},
   "source": [
    "### 3.bernoulli distribution"
   ]
  },
  {
   "cell_type": "markdown",
   "id": "3cf92a8f",
   "metadata": {},
   "source": [
    "it has two possible outcomes 1 (success) or 0(failure) in 1 trial.\n",
    "ex-- switch on or off"
   ]
  },
  {
   "cell_type": "markdown",
   "id": "1c97fc33",
   "metadata": {},
   "source": [
    "### 4.poisson distribution"
   ]
  },
  {
   "cell_type": "markdown",
   "id": "bbb1b304",
   "metadata": {},
   "source": [
    "number of event occuring in within a given time interval.\n",
    "ex--number of calls in a day in call center"
   ]
  },
  {
   "cell_type": "markdown",
   "id": "525f44b5",
   "metadata": {},
   "source": [
    "### 5.exponential distribution"
   ]
  },
  {
   "cell_type": "markdown",
   "id": "21a55cbf",
   "metadata": {},
   "source": [
    "amount of time between the event happens.\n",
    "\n",
    "ex--amount of time between calls in call center."
   ]
  },
  {
   "cell_type": "markdown",
   "id": "f82d6b1b",
   "metadata": {},
   "source": [
    "### 6.uniform distribution."
   ]
  },
  {
   "cell_type": "markdown",
   "id": "f4004043",
   "metadata": {},
   "source": [
    "probability of all outcomes are equal.\n",
    "ex---fliping a 1 coin then probability of getting head or tail is equal"
   ]
  },
  {
   "cell_type": "code",
   "execution_count": null,
   "id": "757282e0",
   "metadata": {},
   "outputs": [],
   "source": []
  }
 ],
 "metadata": {
  "kernelspec": {
   "display_name": "Python 3 (ipykernel)",
   "language": "python",
   "name": "python3"
  },
  "language_info": {
   "codemirror_mode": {
    "name": "ipython",
    "version": 3
   },
   "file_extension": ".py",
   "mimetype": "text/x-python",
   "name": "python",
   "nbconvert_exporter": "python",
   "pygments_lexer": "ipython3",
   "version": "3.10.9"
  }
 },
 "nbformat": 4,
 "nbformat_minor": 5
}
